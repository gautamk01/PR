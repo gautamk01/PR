{
 "cells": [
  {
   "cell_type": "code",
   "execution_count": 1,
   "id": "932c18d9",
   "metadata": {},
   "outputs": [
    {
     "name": "stdout",
     "output_type": "stream",
     "text": [
      "hello\n"
     ]
    }
   ],
   "source": [
    "print(\"hello\")"
   ]
  },
  {
   "cell_type": "code",
   "execution_count": 2,
   "id": "9f6feeee",
   "metadata": {},
   "outputs": [
    {
     "name": "stdout",
     "output_type": "stream",
     "text": [
      "[[1, 2, 3], [1, 2, 3], [23, 34, 42]]\n"
     ]
    }
   ],
   "source": [
    "k = [[1,2,3],[1,2,3],[23,34,42]]\n",
    "print(k)"
   ]
  },
  {
   "cell_type": "code",
   "execution_count": 25,
   "id": "1323344f",
   "metadata": {},
   "outputs": [],
   "source": [
    "def print_matrix(n:list):\n",
    "    for i in n:\n",
    "        for j in i:\n",
    "            print(j,end=\" \")\n",
    "        print()\n",
    "        "
   ]
  },
  {
   "cell_type": "code",
   "execution_count": 36,
   "id": "d3880f6a",
   "metadata": {},
   "outputs": [
    {
     "name": "stdout",
     "output_type": "stream",
     "text": [
      "Enter the value for Matrix 1 \n",
      "Enter the value for Matrix 2 \n",
      "Matrix A\n",
      "1 2 3 \n",
      "1 2 3 \n",
      "1 2 34 \n",
      "Matrix B\n",
      "1 2 312 \n",
      "1 2 13 \n",
      "1 2324 42 \n"
     ]
    }
   ],
   "source": [
    "numb = int(input(\"Enter a number\"))\n",
    "matrixA = []\n",
    "matrixB = []\n",
    "print(\"Enter the value for Matrix 1 \")\n",
    "for i in range(numb):\n",
    "    n = list(map(int,input().split(\" \")))\n",
    "    matrixA.append(n)\n",
    "print(\"Enter the value for Matrix 2 \")\n",
    "for i in range(numb):\n",
    "    n = list(map(int,input().split(\" \")))\n",
    "    matrixB.append(n)\n",
    "print(\"Matrix A\")\n",
    "print_matrix(matrixA)\n",
    "print(\"Matrix B\")\n",
    "print_matrix(matrixB)"
   ]
  },
  {
   "cell_type": "code",
   "execution_count": 20,
   "id": "f7409776",
   "metadata": {},
   "outputs": [
    {
     "name": "stdout",
     "output_type": "stream",
     "text": [
      "[1, 2, 3]\n"
     ]
    }
   ],
   "source": [
    "k = input()\n",
    "l =  k.split(\" \")\n",
    "l = list(map(int,l))\n",
    "print(l)"
   ]
  },
  {
   "cell_type": "code",
   "execution_count": 39,
   "id": "87670d1f",
   "metadata": {},
   "outputs": [
    {
     "name": "stdout",
     "output_type": "stream",
     "text": [
      "\n",
      "😀\n",
      "😀😀\n",
      "😀😀😀\n",
      "😀😀😀😀\n",
      "😀😀😀😀😀\n"
     ]
    }
   ],
   "source": [
    "for i in range(6):\n",
    "    print(\"😀\"*i)"
   ]
  },
  {
   "cell_type": "markdown",
   "id": "1a93d1a7",
   "metadata": {},
   "source": [
    "# Hash MAp "
   ]
  },
  {
   "cell_type": "code",
   "execution_count": 73,
   "id": "ee4c7a22",
   "metadata": {},
   "outputs": [],
   "source": [
    "student = {0:\"Gautam\",1:\"gauri\",2:\"Jack\"}"
   ]
  },
  {
   "cell_type": "code",
   "execution_count": 65,
   "id": "b3f65bde",
   "metadata": {},
   "outputs": [
    {
     "name": "stdout",
     "output_type": "stream",
     "text": [
      "Jack\n",
      "gauri\n",
      "None\n",
      "missing value\n"
     ]
    }
   ],
   "source": [
    "print(student[2])\n",
    "print(student.get(1))\n",
    "print(student.get(20))\n",
    "print(student.get(20,\"missing value\"))"
   ]
  },
  {
   "cell_type": "code",
   "execution_count": 66,
   "id": "c4557d5b",
   "metadata": {},
   "outputs": [],
   "source": [
    "student[4] = \"jhone\"\n",
    "student[0] = \"Krishna \""
   ]
  },
  {
   "cell_type": "code",
   "execution_count": 67,
   "id": "2d4b4f21",
   "metadata": {},
   "outputs": [
    {
     "name": "stdout",
     "output_type": "stream",
     "text": [
      "{0: 'Krishna ', 1: 'gauri', 2: 'Jack', 4: 'jhone'}\n"
     ]
    }
   ],
   "source": [
    "print(student)"
   ]
  },
  {
   "cell_type": "code",
   "execution_count": 68,
   "id": "0b5b2edc",
   "metadata": {},
   "outputs": [
    {
     "data": {
      "text/plain": [
       "'jhone'"
      ]
     },
     "execution_count": 68,
     "metadata": {},
     "output_type": "execute_result"
    }
   ],
   "source": [
    "student.pop(4,None)"
   ]
  },
  {
   "cell_type": "code",
   "execution_count": 69,
   "id": "04d6189d",
   "metadata": {},
   "outputs": [
    {
     "data": {
      "text/plain": [
       "(2, 'Jack')"
      ]
     },
     "execution_count": 69,
     "metadata": {},
     "output_type": "execute_result"
    }
   ],
   "source": [
    "student.popitem()"
   ]
  },
  {
   "cell_type": "code",
   "execution_count": 70,
   "id": "6ff9a3e5",
   "metadata": {},
   "outputs": [],
   "source": [
    "del student[1]"
   ]
  },
  {
   "cell_type": "code",
   "execution_count": 71,
   "id": "1b0b6b2f",
   "metadata": {},
   "outputs": [],
   "source": [
    "student.clear()"
   ]
  },
  {
   "cell_type": "code",
   "execution_count": 75,
   "id": "96dbedaf",
   "metadata": {},
   "outputs": [
    {
     "data": {
      "text/plain": [
       "True"
      ]
     },
     "execution_count": 75,
     "metadata": {},
     "output_type": "execute_result"
    }
   ],
   "source": [
    "2 in student\n",
    "20 not in student"
   ]
  },
  {
   "cell_type": "code",
   "execution_count": 76,
   "id": "f084ec76",
   "metadata": {},
   "outputs": [
    {
     "name": "stdout",
     "output_type": "stream",
     "text": [
      "0\n",
      "1\n",
      "2\n"
     ]
    }
   ],
   "source": [
    "for key in student:\n",
    "    print(key)"
   ]
  },
  {
   "cell_type": "code",
   "execution_count": 77,
   "id": "c24b205e",
   "metadata": {},
   "outputs": [
    {
     "name": "stdout",
     "output_type": "stream",
     "text": [
      "0 Gautam\n",
      "1 gauri\n",
      "2 Jack\n"
     ]
    }
   ],
   "source": [
    "for key,value in student.items():\n",
    "    print(key,value)"
   ]
  },
  {
   "cell_type": "code",
   "execution_count": 78,
   "id": "2ac9e2e1",
   "metadata": {},
   "outputs": [
    {
     "name": "stdout",
     "output_type": "stream",
     "text": [
      "Gautam\n",
      "gauri\n",
      "Jack\n"
     ]
    }
   ],
   "source": [
    "for key in student.values():\n",
    "    print(key)"
   ]
  },
  {
   "cell_type": "code",
   "execution_count": 79,
   "id": "3886167b",
   "metadata": {},
   "outputs": [
    {
     "data": {
      "text/plain": [
       "dict_keys([0, 1, 2])"
      ]
     },
     "execution_count": 79,
     "metadata": {},
     "output_type": "execute_result"
    }
   ],
   "source": [
    "student.keys()"
   ]
  },
  {
   "cell_type": "code",
   "execution_count": 80,
   "id": "945c0922",
   "metadata": {},
   "outputs": [
    {
     "data": {
      "text/plain": [
       "dict_values(['Gautam', 'gauri', 'Jack'])"
      ]
     },
     "execution_count": 80,
     "metadata": {},
     "output_type": "execute_result"
    }
   ],
   "source": [
    "student.values()"
   ]
  },
  {
   "cell_type": "code",
   "execution_count": 81,
   "id": "dab64222",
   "metadata": {},
   "outputs": [
    {
     "data": {
      "text/plain": [
       "dict_items([(0, 'Gautam'), (1, 'gauri'), (2, 'Jack')])"
      ]
     },
     "execution_count": 81,
     "metadata": {},
     "output_type": "execute_result"
    }
   ],
   "source": [
    "student.items()"
   ]
  },
  {
   "cell_type": "code",
   "execution_count": 82,
   "id": "57c0439e",
   "metadata": {},
   "outputs": [],
   "source": [
    "copy_student = student.copy()"
   ]
  },
  {
   "cell_type": "code",
   "execution_count": 84,
   "id": "ea5bdaa9",
   "metadata": {},
   "outputs": [],
   "source": [
    "student.update({0:\"jhonny\",20:\"dep\"})"
   ]
  },
  {
   "cell_type": "code",
   "execution_count": 85,
   "id": "96abf79b",
   "metadata": {},
   "outputs": [
    {
     "data": {
      "text/plain": [
       "dict_items([(0, 'jhonny'), (1, 'dep'), (2, 'Jack'), (20, 'dep')])"
      ]
     },
     "execution_count": 85,
     "metadata": {},
     "output_type": "execute_result"
    }
   ],
   "source": [
    "student.items()"
   ]
  },
  {
   "cell_type": "code",
   "execution_count": 86,
   "id": "e146d01c",
   "metadata": {},
   "outputs": [
    {
     "name": "stdout",
     "output_type": "stream",
     "text": [
      "defaultdict(<class 'int'>, {'a': 1})\n"
     ]
    }
   ],
   "source": [
    "from collections import defaultdict\n",
    "d = defaultdict(int)\n",
    "d[\"a\"] +=1\n",
    "print(d)"
   ]
  },
  {
   "cell_type": "code",
   "execution_count": 90,
   "id": "17fe3f13",
   "metadata": {},
   "outputs": [
    {
     "name": "stdout",
     "output_type": "stream",
     "text": [
      "defaultdict(<class 'int'>, {'J': 1, 'h': 1, 'o': 1, 'n': 2, 'y': 1})\n"
     ]
    }
   ],
   "source": [
    "from collections import defaultdict \n",
    "\n",
    "defs = defaultdict(int)\n",
    "strings = \"Jhonny\"\n",
    "for i in strings:\n",
    "    defs[i] += 1\n",
    "print(defs)\n"
   ]
  },
  {
   "cell_type": "code",
   "execution_count": 92,
   "id": "e1ad7ecf",
   "metadata": {},
   "outputs": [
    {
     "name": "stdout",
     "output_type": "stream",
     "text": [
      "defaultdict(<class 'int'>, {'b': 1, 'a': 3, 'n': 2})\n"
     ]
    }
   ],
   "source": [
    "from collections import defaultdict\n",
    "user_input = input()\n",
    "\n",
    "dif = defaultdict(int)\n",
    "for i in user_input:\n",
    "    dif[i] +=1 \n",
    "print(dif)\n"
   ]
  },
  {
   "cell_type": "code",
   "execution_count": 95,
   "id": "6d586ea8",
   "metadata": {},
   "outputs": [
    {
     "name": "stdout",
     "output_type": "stream",
     "text": [
      "l\n"
     ]
    }
   ],
   "source": [
    "from collections import defaultdict\n",
    "user = \"leetcode\"\n",
    "dif = defaultdict(int)\n",
    "\n",
    "for u in user:\n",
    "    dif[u] +=1\n",
    "\n",
    "for i in dif:\n",
    "    if(dif[i] == 1):\n",
    "        print(i)\n",
    "        break"
   ]
  },
  {
   "cell_type": "code",
   "execution_count": 98,
   "id": "5939d262",
   "metadata": {},
   "outputs": [
    {
     "name": "stdout",
     "output_type": "stream",
     "text": [
      "True\n"
     ]
    }
   ],
   "source": [
    "from collections import defaultdict\n",
    "word1 = \"listen\"\n",
    "word2 = \"silent\"\n",
    "w1 = defaultdict(int)\n",
    "w2 = defaultdict(int)\n",
    "for i in word1:\n",
    "    w1[i] +=1\n",
    "flag = True\n",
    "for j in word2:\n",
    "    if(not w1.get(j)):\n",
    "        flag = False\n",
    "        break\n",
    "print(flag)\n",
    "        \n"
   ]
  },
  {
   "cell_type": "code",
   "execution_count": 111,
   "id": "c0fd1bfb",
   "metadata": {},
   "outputs": [
    {
     "name": "stdout",
     "output_type": "stream",
     "text": [
      "2\n"
     ]
    }
   ],
   "source": [
    "from collections import defaultdict \n",
    "counter = defaultdict(int)\n",
    "list_case = [1,1,2,2,2,2,3,3]\n",
    "for i in list_case:\n",
    "    counter[i] +=1 \n",
    "t = max(counter.values())\n",
    "for i,c in counter.items():\n",
    "    if(c == t):\n",
    "        print(i)"
   ]
  },
  {
   "cell_type": "code",
   "execution_count": 129,
   "id": "a29aad35",
   "metadata": {},
   "outputs": [
    {
     "name": "stdout",
     "output_type": "stream",
     "text": [
      "0 1\n"
     ]
    }
   ],
   "source": [
    "dic = {}\n",
    "nums = [2,7,11,15] \n",
    "target = 9 \n",
    "for index,i in enumerate(nums):\n",
    "    find = target - i\n",
    "    if dic.get(find) is not None:\n",
    "        print(dic.get(find),index)\n",
    "        break\n",
    "    else:\n",
    "        dic[i] = index\n",
    "\n"
   ]
  },
  {
   "cell_type": "code",
   "execution_count": 131,
   "id": "cf692cd3",
   "metadata": {},
   "outputs": [
    {
     "data": {
      "text/plain": [
       "{2: ['hi'], 3: ['cat', 'dog'], 5: ['hello']}"
      ]
     },
     "execution_count": 131,
     "metadata": {},
     "output_type": "execute_result"
    }
   ],
   "source": [
    "dic = {} \n",
    "lister = [\"hi\", \"cat\", \"dog\", \"hello\"]\n",
    "for i in lister:\n",
    "    leng = len(i)\n",
    "    if dic.get(leng) :\n",
    "        dic[leng].append(i)\n",
    "    else:\n",
    "        dic[leng] = [i]\n",
    "dic"
   ]
  },
  {
   "cell_type": "code",
   "execution_count": 140,
   "id": "61b7852b",
   "metadata": {},
   "outputs": [
    {
     "data": {
      "text/plain": [
       "[2, 2]"
      ]
     },
     "execution_count": 140,
     "metadata": {},
     "output_type": "execute_result"
    }
   ],
   "source": [
    "w = [1,2,2,1]\n",
    "w2 = [2,2]\n",
    "\n",
    "dif = {}\n",
    "for i in w :\n",
    "    dif[i] = dif.get(i,0) +1 \n",
    "\n",
    "result = [] \n",
    "for i in w2 :\n",
    "    if dif.get(i) :\n",
    "        result.append(i)\n",
    "\n",
    "result\n",
    "\n",
    "\n"
   ]
  },
  {
   "cell_type": "code",
   "execution_count": 4,
   "id": "309453fe",
   "metadata": {},
   "outputs": [
    {
     "name": "stdout",
     "output_type": "stream",
     "text": [
      "[0, 1, 2, 3, 4]\n"
     ]
    }
   ],
   "source": [
    "unsort = [4,2,3,1,0]\n",
    "\n",
    "for i in range(len(unsort)):\n",
    "    for j in range(1,len(unsort)-i):\n",
    "        if(unsort[j-1] > unsort[j]):\n",
    "            unsort[j-1],unsort[j] = unsort[j] , unsort[j-1]\n",
    "print(unsort)"
   ]
  },
  {
   "cell_type": "code",
   "execution_count": 10,
   "id": "7eff3415",
   "metadata": {},
   "outputs": [
    {
     "name": "stdout",
     "output_type": "stream",
     "text": [
      "[0, 1, 2, 3, 12]\n"
     ]
    }
   ],
   "source": [
    "unsort = [3,12,2,1,0]\n",
    "leng = len(unsort)\n",
    "\n",
    "for i in range(1,leng):\n",
    "    k = unsort[i]\n",
    "    l = i-1\n",
    "    while k < unsort[l] and l >= 0:\n",
    "        unsort[l+1] = unsort[l]\n",
    "        l -=1 \n",
    "    unsort[l+1] = k\n",
    "print(unsort) \n"
   ]
  },
  {
   "cell_type": "code",
   "execution_count": 13,
   "id": "36cd4bf5",
   "metadata": {},
   "outputs": [
    {
     "data": {
      "text/plain": [
       "[1]"
      ]
     },
     "execution_count": 13,
     "metadata": {},
     "output_type": "execute_result"
    }
   ],
   "source": [
    "result = [1] +[]\n",
    "result"
   ]
  },
  {
   "cell_type": "code",
   "execution_count": null,
   "id": "c012e2e2",
   "metadata": {},
   "outputs": [],
   "source": [
    "def merge(left,right):\n",
    "    result = []\n",
    "    i=j=0\n",
    "    while i < len(left) and j < len(right):\n",
    "        if(left[i] < right[j]):\n",
    "            result.append(left[i])\n",
    "            i+ = 1\n",
    "        else:\n",
    "            result.append(right[j])\n",
    "            \n",
    "    result += left\n",
    "    result += right\n",
    "    return result"
   ]
  },
  {
   "cell_type": "code",
   "execution_count": 34,
   "id": "e4b0e799",
   "metadata": {},
   "outputs": [],
   "source": [
    "def mergesort(array):\n",
    "    l = len(array)\n",
    "    if l <= 1:\n",
    "        return array\n",
    "\n",
    "    mid = l // 2\n",
    "    left = mergesort(array[:mid])   # correct left half\n",
    "    right = mergesort(array[mid:])  # correct right half\n",
    "    # Debug prints\n",
    "    print(\"Merging:\", left, right)\n",
    "    return merge(left,right)"
   ]
  },
  {
   "cell_type": "code",
   "execution_count": 35,
   "id": "1f3ef445",
   "metadata": {},
   "outputs": [
    {
     "name": "stdout",
     "output_type": "stream",
     "text": [
      "Merging: [10] [20]\n",
      "Merging: [1] [2]\n",
      "Merging: [3] [1, 1, 2]\n",
      "Merging: [10, 10, 20] [1, 3, 1, 1, 2]\n"
     ]
    },
    {
     "data": {
      "text/plain": [
       "[1, 3, 1, 10, 10, 20, 1, 3, 1, 1, 2]"
      ]
     },
     "execution_count": 35,
     "metadata": {},
     "output_type": "execute_result"
    }
   ],
   "source": [
    "\n",
    "\n",
    "unsort = [10,20,3,1,2]\n",
    "\n",
    "mergesort(unsort)\n"
   ]
  },
  {
   "cell_type": "code",
   "execution_count": null,
   "id": "87fbacde",
   "metadata": {},
   "outputs": [],
   "source": []
  }
 ],
 "metadata": {
  "kernelspec": {
   "display_name": "venv",
   "language": "python",
   "name": "python3"
  },
  "language_info": {
   "codemirror_mode": {
    "name": "ipython",
    "version": 3
   },
   "file_extension": ".py",
   "mimetype": "text/x-python",
   "name": "python",
   "nbconvert_exporter": "python",
   "pygments_lexer": "ipython3",
   "version": "3.12.0"
  }
 },
 "nbformat": 4,
 "nbformat_minor": 5
}
